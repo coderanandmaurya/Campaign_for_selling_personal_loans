{
  "nbformat": 4,
  "nbformat_minor": 0,
  "metadata": {
    "colab": {
      "name": "personal_Loan.ipynb",
      "provenance": [],
      "authorship_tag": "ABX9TyOpbV7LVH/KEd6uxYO/IxGX",
      "include_colab_link": true
    },
    "kernelspec": {
      "name": "python3",
      "display_name": "Python 3"
    },
    "language_info": {
      "name": "python"
    }
  },
  "cells": [
    {
      "cell_type": "markdown",
      "metadata": {
        "id": "view-in-github",
        "colab_type": "text"
      },
      "source": [
        "<a href=\"https://colab.research.google.com/github/musketeer016/Campaign_for_selling_personal_loans/blob/main/personal_Loan.ipynb\" target=\"_parent\"><img src=\"https://colab.research.google.com/assets/colab-badge.svg\" alt=\"Open In Colab\"/></a>"
      ]
    },
    {
      "cell_type": "code",
      "metadata": {
        "id": "uK5qmrGv_I2A"
      },
      "source": [
        "import numpy\n",
        "import matplotlib\n",
        "import seaborn\n"
      ],
      "execution_count": 2,
      "outputs": []
    }
  ]
}